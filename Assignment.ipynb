{
 "cells": [
  {
   "cell_type": "code",
   "execution_count": 1,
   "id": "08c777be",
   "metadata": {},
   "outputs": [
    {
     "name": "stdout",
     "output_type": "stream",
     "text": [
      "Enter the number of tankfuls: 0\n",
      "Nothing \n"
     ]
    }
   ],
   "source": [
    "n_tanks = int(input(\"Enter the number of tankfuls: \"))\n",
    "sum_kms = 0\n",
    "sum_liters = 0\n",
    "\n",
    "for i in range(1, n_tanks + 1):\n",
    "    while True:\n",
    "        liters = float(input(f\"Enter the litters used {i}: \"))\n",
    "        kms = float(input(f\"Enter the kms driven {i}: \"))\n",
    "        if liters > 0:\n",
    "            break\n",
    "    kms_per_liter = kms / liters\n",
    "    sum_kms += kms\n",
    "    sum_liters += liters\n",
    "    print(f\"Kms per liter for tankful {i}: {kms_per_liter}\")\n",
    "if sum_liters != 0:\n",
    "    overall_average = sum_kms / sum_liters\n",
    "    print(f\"The overall average kms/litter was: {overall_average}\")\n",
    "else:\n",
    "    print(\"Nothing \")\n"
   ]
  },
  {
   "cell_type": "code",
   "execution_count": 2,
   "id": "30eb4721",
   "metadata": {},
   "outputs": [
    {
     "name": "stdout",
     "output_type": "stream",
     "text": [
      "Enter the liters used for tankful 1 (or enter -1 to end): -1\n",
      "No valid data to calculate overall average.\n"
     ]
    }
   ],
   "source": [
    "sum_kms = 0\n",
    "sum_liters = 0\n",
    "tank_count = 0\n",
    "\n",
    "while True:\n",
    "    liters = float(input(f\"Enter the liters used for tankful {tank_count + 1} (or enter -1 to end): \"))\n",
    "    if liters < 0:\n",
    "        break\n",
    "    kms = float(input(f\"Enter the kilometers driven for tankful {tank_count + 1}: \"))\n",
    "    \n",
    "    if liters > 0:\n",
    "        kms_per_liter = kms / liters\n",
    "        sum_kms += kms\n",
    "        sum_liters += liters\n",
    "        tank_count += 1\n",
    "        print(f\"Kms per liter for tankful {tank_count}: {kms_per_liter}\")\n",
    "\n",
    "if tank_count > 0:\n",
    "    overall_average = sum_kms / sum_liters\n",
    "    print(f\"The overall average kms/liter was: {overall_average:.2f}\")\n",
    "else:\n",
    "    print(\"No valid data to calculate overall average.\")\n"
   ]
  },
  {
   "cell_type": "code",
   "execution_count": 3,
   "id": "e5f9dffd",
   "metadata": {},
   "outputs": [
    {
     "name": "stdout",
     "output_type": "stream",
     "text": [
      "Enter a five-digit integer: 22222\n",
      "22222 is a palindrome.\n"
     ]
    }
   ],
   "source": [
    "num = input(\"Enter a five-digit integer: \")\n",
    "\n",
    "if len(num) != 5:\n",
    "    print(\"Please enter a five-digit integer.\")\n",
    "else:\n",
    "    is_palindrome = True\n",
    "    for i in range(2):\n",
    "        if num[i] != num[-(i+1)]:\n",
    "            is_palindrome = False\n",
    "            break\n",
    "\n",
    "    if is_palindrome:\n",
    "        print(f\"{num} is a palindrome.\")\n",
    "    else:\n",
    "        print(f\"{num} is not a palindrome.\")\n"
   ]
  },
  {
   "cell_type": "code",
   "execution_count": 4,
   "id": "eadd3f5c",
   "metadata": {},
   "outputs": [
    {
     "name": "stdout",
     "output_type": "stream",
     "text": [
      "1\n",
      "2\n"
     ]
    }
   ],
   "source": [
    "count = 1\n",
    "# condition: Run loop till count is less than 3\n",
    "while count < 3:\n",
    "    print(count)\n",
    "    count = count + 1"
   ]
  },
  {
   "cell_type": "code",
   "execution_count": null,
   "id": "fea2a13c",
   "metadata": {},
   "outputs": [],
   "source": []
  }
 ],
 "metadata": {
  "kernelspec": {
   "display_name": "Python 3 (ipykernel)",
   "language": "python",
   "name": "python3"
  },
  "language_info": {
   "codemirror_mode": {
    "name": "ipython",
    "version": 3
   },
   "file_extension": ".py",
   "mimetype": "text/x-python",
   "name": "python",
   "nbconvert_exporter": "python",
   "pygments_lexer": "ipython3",
   "version": "3.10.6"
  }
 },
 "nbformat": 4,
 "nbformat_minor": 5
}
